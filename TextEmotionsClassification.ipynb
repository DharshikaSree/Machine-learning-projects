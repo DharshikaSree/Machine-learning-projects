{
  "nbformat": 4,
  "nbformat_minor": 0,
  "metadata": {
    "colab": {
      "provenance": [],
      "authorship_tag": "ABX9TyPVwnJpMUIBdy9M64qG59HF",
      "include_colab_link": true
    },
    "kernelspec": {
      "name": "python3",
      "display_name": "Python 3"
    },
    "language_info": {
      "name": "python"
    }
  },
  "cells": [
    {
      "cell_type": "markdown",
      "metadata": {
        "id": "view-in-github",
        "colab_type": "text"
      },
      "source": [
        "<a href=\"https://colab.research.google.com/github/DharshikaSree/Text_Emotions_Classification/blob/main/TextEmotionsClassification.ipynb\" target=\"_parent\"><img src=\"https://colab.research.google.com/assets/colab-badge.svg\" alt=\"Open In Colab\"/></a>"
      ]
    },
    {
      "cell_type": "code",
      "source": [
        "import pandas as pd\n",
        "import numpy as np\n",
        "import tensorflow as tf\n",
        "from tensorflow.keras.preprocessing.text import Tokenizer\n",
        "from tensorflow.keras.preprocessing.sequence import pad_sequences\n",
        "from sklearn.preprocessing import LabelEncoder\n",
        "from sklearn.model_selection import train_test_split\n",
        "from tensorflow.keras.models import Sequential\n",
        "from tensorflow.keras.layers import Embedding, Flatten, Dense"
      ],
      "metadata": {
        "id": "OHx7tkXF07zb"
      },
      "execution_count": null,
      "outputs": []
    },
    {
      "cell_type": "code",
      "source": [
        "data = pd.read_csv(\"/content/train.txt\", sep=';')\n",
        "data.columns = [\"Text\", \"Emotions\"]\n",
        "print(data.head())"
      ],
      "metadata": {
        "colab": {
          "base_uri": "https://localhost:8080/"
        },
        "id": "fBqDc-phjMnt",
        "outputId": "0b3d7c65-05e8-4e7d-cd4e-b6a8a683c364"
      },
      "execution_count": null,
      "outputs": [
        {
          "output_type": "stream",
          "name": "stdout",
          "text": [
            "                                                Text Emotions\n",
            "0  i can go from feeling so hopeless to so damned...  sadness\n",
            "1   im grabbing a minute to post i feel greedy wrong    anger\n",
            "2  i am ever feeling nostalgic about the fireplac...     love\n",
            "3                               i am feeling grouchy    anger\n",
            "4  ive been feeling a little burdened lately wasn...  sadness\n"
          ]
        }
      ]
    },
    {
      "cell_type": "code",
      "source": [
        "texts = data[\"Text\"].tolist()\n",
        "labels = data[\"Emotions\"].tolist()\n",
        "\n",
        "# Tokenize the text data\n",
        "tokenizer = Tokenizer()\n",
        "tokenizer.fit_on_texts(texts)"
      ],
      "metadata": {
        "id": "1pZtlNWTbpEp"
      },
      "execution_count": null,
      "outputs": []
    },
    {
      "cell_type": "code",
      "source": [
        "sequences = tokenizer.texts_to_sequences(texts)\n",
        "max_length = max([len(seq) for seq in sequences])\n",
        "padded_sequences = pad_sequences(sequences, maxlen=max_length)"
      ],
      "metadata": {
        "id": "fmojYxbNbwPe"
      },
      "execution_count": null,
      "outputs": []
    },
    {
      "cell_type": "code",
      "source": [
        "sequences = tokenizer.texts_to_sequences(texts)"
      ],
      "metadata": {
        "id": "BPY5BUMJbx2C"
      },
      "execution_count": null,
      "outputs": []
    },
    {
      "cell_type": "code",
      "source": [
        "padded_sequences"
      ],
      "metadata": {
        "id": "kw0IysUOb4If",
        "colab": {
          "base_uri": "https://localhost:8080/"
        },
        "outputId": "f130b464-1652-40c7-dca3-c3dbd3309247"
      },
      "execution_count": null,
      "outputs": [
        {
          "output_type": "execute_result",
          "data": {
            "text/plain": [
              "array([[   0,    0,    0, ...,    3,   21, 1254],\n",
              "       [   0,    0,    0, ...,    2,  494,  437],\n",
              "       [   0,    0,    0, ...,   29,    5, 3496],\n",
              "       ...,\n",
              "       [   0,    0,    0, ...,    3,  101, 1331],\n",
              "       [   0,    0,    0, ...,  339,    8,   42],\n",
              "       [   0,    0,    0, ...,   25, 3585,   12]], dtype=int32)"
            ]
          },
          "metadata": {},
          "execution_count": 11
        }
      ]
    },
    {
      "cell_type": "code",
      "source": [
        "# Encode the string labels to integers\n",
        "label_encoder = LabelEncoder()\n",
        "labels = label_encoder.fit_transform(labels)"
      ],
      "metadata": {
        "id": "e1Uq1i5Sb6r0"
      },
      "execution_count": null,
      "outputs": []
    },
    {
      "cell_type": "code",
      "source": [
        "import keras"
      ],
      "metadata": {
        "id": "5rW_KWpTozvF"
      },
      "execution_count": null,
      "outputs": []
    },
    {
      "cell_type": "code",
      "source": [
        "# One-hot encode the labels\n",
        "one_hot_labels = keras.utils.to_categorical(labels)"
      ],
      "metadata": {
        "id": "h0A33eo0cAQG"
      },
      "execution_count": null,
      "outputs": []
    },
    {
      "cell_type": "code",
      "source": [
        "one_hot_labels"
      ],
      "metadata": {
        "id": "-ZgtLda_cIeF",
        "colab": {
          "base_uri": "https://localhost:8080/"
        },
        "outputId": "e99bfe00-70bd-4a18-f57c-9888440098b8"
      },
      "execution_count": null,
      "outputs": [
        {
          "output_type": "execute_result",
          "data": {
            "text/plain": [
              "array([[0., 0., 0., 0., 1., 0.],\n",
              "       [1., 0., 0., 0., 0., 0.],\n",
              "       [0., 0., 0., 1., 0., 0.],\n",
              "       ...,\n",
              "       [0., 0., 1., 0., 0., 0.],\n",
              "       [1., 0., 0., 0., 0., 0.],\n",
              "       [0., 0., 0., 0., 1., 0.]])"
            ]
          },
          "metadata": {},
          "execution_count": 17
        }
      ]
    },
    {
      "cell_type": "code",
      "source": [
        "# Split the data into training and testing sets\n",
        "xtrain, xtest, ytrain, ytest = train_test_split(padded_sequences,\n",
        "                                                one_hot_labels,\n",
        "                                                test_size=0.2)"
      ],
      "metadata": {
        "id": "g7TrPKZVcMbC"
      },
      "execution_count": null,
      "outputs": []
    },
    {
      "cell_type": "code",
      "source": [
        "one_hot_labels[0]"
      ],
      "metadata": {
        "id": "bVCIo7yycbru",
        "colab": {
          "base_uri": "https://localhost:8080/"
        },
        "outputId": "e82bf0e7-c1e4-4fa0-bbd6-380486b9d2bc"
      },
      "execution_count": null,
      "outputs": [
        {
          "output_type": "execute_result",
          "data": {
            "text/plain": [
              "array([0., 0., 0., 0., 1., 0.])"
            ]
          },
          "metadata": {},
          "execution_count": 19
        }
      ]
    },
    {
      "cell_type": "code",
      "source": [
        "# Define the model\n",
        "model = Sequential()\n",
        "model.add(Embedding(input_dim=len(tokenizer.word_index) + 1,\n",
        "                    output_dim=128, input_length=max_length))\n",
        "model.add(Flatten())\n",
        "model.add(Dense(units=128, activation=\"relu\"))\n",
        "model.add(Dense(units=len(one_hot_labels[0]), activation=\"softmax\"))\n",
        "\n",
        "model.compile(optimizer=\"adam\", loss=\"categorical_crossentropy\", metrics=[\"accuracy\"])\n",
        "model.fit(xtrain, ytrain, epochs=10, batch_size=32, validation_data=(xtest, ytest))"
      ],
      "metadata": {
        "id": "qcSgPfD2ceWV",
        "colab": {
          "base_uri": "https://localhost:8080/"
        },
        "outputId": "8d5bacd3-f1eb-4f52-aefd-0c5190002b00"
      },
      "execution_count": null,
      "outputs": [
        {
          "output_type": "stream",
          "name": "stdout",
          "text": [
            "Epoch 1/10\n"
          ]
        },
        {
          "output_type": "stream",
          "name": "stderr",
          "text": [
            "/usr/local/lib/python3.10/dist-packages/keras/src/layers/core/embedding.py:90: UserWarning: Argument `input_length` is deprecated. Just remove it.\n",
            "  warnings.warn(\n"
          ]
        },
        {
          "output_type": "stream",
          "name": "stdout",
          "text": [
            "\u001b[1m400/400\u001b[0m \u001b[32m━━━━━━━━━━━━━━━━━━━━\u001b[0m\u001b[37m\u001b[0m \u001b[1m16s\u001b[0m 37ms/step - accuracy: 0.3782 - loss: 1.5284 - val_accuracy: 0.7141 - val_loss: 0.8238\n",
            "Epoch 2/10\n",
            "\u001b[1m400/400\u001b[0m \u001b[32m━━━━━━━━━━━━━━━━━━━━\u001b[0m\u001b[37m\u001b[0m \u001b[1m21s\u001b[0m 37ms/step - accuracy: 0.8765 - loss: 0.3993 - val_accuracy: 0.8191 - val_loss: 0.5564\n",
            "Epoch 3/10\n",
            "\u001b[1m400/400\u001b[0m \u001b[32m━━━━━━━━━━━━━━━━━━━━\u001b[0m\u001b[37m\u001b[0m \u001b[1m15s\u001b[0m 37ms/step - accuracy: 0.9851 - loss: 0.0587 - val_accuracy: 0.8219 - val_loss: 0.5834\n",
            "Epoch 4/10\n",
            "\u001b[1m400/400\u001b[0m \u001b[32m━━━━━━━━━━━━━━━━━━━━\u001b[0m\u001b[37m\u001b[0m \u001b[1m15s\u001b[0m 37ms/step - accuracy: 0.9944 - loss: 0.0235 - val_accuracy: 0.8291 - val_loss: 0.6260\n",
            "Epoch 5/10\n",
            "\u001b[1m400/400\u001b[0m \u001b[32m━━━━━━━━━━━━━━━━━━━━\u001b[0m\u001b[37m\u001b[0m \u001b[1m21s\u001b[0m 37ms/step - accuracy: 0.9981 - loss: 0.0110 - val_accuracy: 0.8122 - val_loss: 0.6940\n",
            "Epoch 6/10\n",
            "\u001b[1m400/400\u001b[0m \u001b[32m━━━━━━━━━━━━━━━━━━━━\u001b[0m\u001b[37m\u001b[0m \u001b[1m15s\u001b[0m 36ms/step - accuracy: 0.9967 - loss: 0.0128 - val_accuracy: 0.8253 - val_loss: 0.7007\n",
            "Epoch 7/10\n",
            "\u001b[1m400/400\u001b[0m \u001b[32m━━━━━━━━━━━━━━━━━━━━\u001b[0m\u001b[37m\u001b[0m \u001b[1m15s\u001b[0m 38ms/step - accuracy: 0.9987 - loss: 0.0079 - val_accuracy: 0.8188 - val_loss: 0.6959\n",
            "Epoch 8/10\n",
            "\u001b[1m400/400\u001b[0m \u001b[32m━━━━━━━━━━━━━━━━━━━━\u001b[0m\u001b[37m\u001b[0m \u001b[1m20s\u001b[0m 37ms/step - accuracy: 0.9986 - loss: 0.0081 - val_accuracy: 0.8156 - val_loss: 0.7580\n",
            "Epoch 9/10\n",
            "\u001b[1m400/400\u001b[0m \u001b[32m━━━━━━━━━━━━━━━━━━━━\u001b[0m\u001b[37m\u001b[0m \u001b[1m20s\u001b[0m 37ms/step - accuracy: 0.9979 - loss: 0.0092 - val_accuracy: 0.8191 - val_loss: 0.7412\n",
            "Epoch 10/10\n",
            "\u001b[1m400/400\u001b[0m \u001b[32m━━━━━━━━━━━━━━━━━━━━\u001b[0m\u001b[37m\u001b[0m \u001b[1m15s\u001b[0m 38ms/step - accuracy: 0.9982 - loss: 0.0071 - val_accuracy: 0.8206 - val_loss: 0.7695\n"
          ]
        },
        {
          "output_type": "execute_result",
          "data": {
            "text/plain": [
              "<keras.src.callbacks.history.History at 0x7d8e307e10c0>"
            ]
          },
          "metadata": {},
          "execution_count": 20
        }
      ]
    },
    {
      "cell_type": "code",
      "source": [
        "input_text = \"i am ever feeling nostalgic about the fireplace i will know that it is still on the property\"\n",
        "\n",
        "# Preprocess the input text\n",
        "input_sequence = tokenizer.texts_to_sequences([input_text])\n",
        "padded_input_sequence = pad_sequences(input_sequence, maxlen=max_length)\n",
        "prediction = model.predict(padded_input_sequence)\n",
        "predicted_label = label_encoder.inverse_transform([np.argmax(prediction[0])])\n",
        "print(predicted_label[0])"
      ],
      "metadata": {
        "id": "ZFgj6jpUcvQn",
        "colab": {
          "base_uri": "https://localhost:8080/"
        },
        "outputId": "0ccd423c-41bd-4a34-8df5-3b51d486dce0"
      },
      "execution_count": null,
      "outputs": [
        {
          "output_type": "stream",
          "name": "stdout",
          "text": [
            "\u001b[1m1/1\u001b[0m \u001b[32m━━━━━━━━━━━━━━━━━━━━\u001b[0m\u001b[37m\u001b[0m \u001b[1m0s\u001b[0m 65ms/step\n",
            "love\n"
          ]
        }
      ]
    },
    {
      "cell_type": "code",
      "source": [],
      "metadata": {
        "id": "h4NeZV088v9Y"
      },
      "execution_count": null,
      "outputs": []
    },
    {
      "cell_type": "code",
      "source": [],
      "metadata": {
        "id": "g3PzODA_8w_v"
      },
      "execution_count": null,
      "outputs": []
    },
    {
      "cell_type": "code",
      "source": [],
      "metadata": {
        "id": "BZciQf9n8xoZ"
      },
      "execution_count": null,
      "outputs": []
    },
    {
      "cell_type": "code",
      "source": [],
      "metadata": {
        "id": "lTAZcfrK8zvd"
      },
      "execution_count": null,
      "outputs": []
    },
    {
      "cell_type": "code",
      "source": [],
      "metadata": {
        "id": "t-RpedhzSrxA"
      },
      "execution_count": null,
      "outputs": []
    }
  ]
}